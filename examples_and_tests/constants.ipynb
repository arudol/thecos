{
 "cells": [
  {
   "cell_type": "code",
   "execution_count": null,
   "id": "5dfff5f1-4801-4893-8042-5975e50e44ad",
   "metadata": {},
   "outputs": [],
   "source": [
    "import scipy.constants as const\n",
    "# ALL IN CGS !!!\n",
    "\n",
    "sigma_t = const.physical_constants['Thomson cross section'][0]*1.e4 #cm2\n",
    "c0 = const.c*1.e2 #cm/s\n",
    "m_e = const.m_e * 1.e3 #g\n",
    "m_p = const.m_p * 1.e3 #g\n",
    "kappa_pp = 0.5\n",
    "sigma_pp = 5.e-26 # cm2\n",
    "k_B_erg = 1.380649 * 1.e-16 # erg/K\n",
    "k_B_eV = 8.617333262*1.e-5\n",
    "a = 7.5657e-15  # erg/cm3/K4\n",
    "h =6.6261* 1.e-27 #cm2 g s-1\n",
    "hbar = h/(2* np.pi)\n",
    "eStatC = 4.8e-10 # statC\n",
    "alpha_f = eStatC**2/(hbar *c0)\n",
    "lambda_C = h /(m_e *c0)\n",
    "#epsilon_0 = e**2 / (2*alpha_f * h * c0)\n",
    "epsilon_0 = 1/(4* np.pi)"
   ]
  },
  {
   "cell_type": "code",
   "execution_count": null,
   "id": "f3fc7912-67a5-4f01-9ce1-b863caa273f3",
   "metadata": {},
   "outputs": [],
   "source": [
    "def beta_from_gamma(gamma):\n",
    "    return np.sqrt(1- 1/gamma**2)\n",
    "\n",
    "def gamma_from_beta(beta):\n",
    "    return np.sqrt(1/(1-beta**2))"
   ]
  },
  {
   "cell_type": "code",
   "execution_count": null,
   "id": "0504336c-c465-4dfa-8f21-bedc7a09dcb9",
   "metadata": {},
   "outputs": [],
   "source": [
    "conversion_factor_energy = (8* np.pi /(c0*h)**3*(m_e*c0**2)**4)\n",
    "conversion_factor_number = (8* np.pi /(c0*h)**3*(m_e*c0**2)**3)"
   ]
  }
 ],
 "metadata": {
  "kernelspec": {
   "display_name": "Python 3 (ipykernel)",
   "language": "python",
   "name": "python3"
  },
  "language_info": {
   "codemirror_mode": {
    "name": "ipython",
    "version": 3
   },
   "file_extension": ".py",
   "mimetype": "text/x-python",
   "name": "python",
   "nbconvert_exporter": "python",
   "pygments_lexer": "ipython3",
   "version": "3.9.15"
  }
 },
 "nbformat": 4,
 "nbformat_minor": 5
}
