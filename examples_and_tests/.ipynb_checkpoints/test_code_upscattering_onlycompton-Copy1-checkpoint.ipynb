{
 "cells": [
  {
   "cell_type": "code",
   "execution_count": 1,
   "id": "7bfde29a-7c3f-4a66-a5f1-4a0505cec246",
   "metadata": {
    "tags": []
   },
   "outputs": [
    {
     "name": "stdin",
     "output_type": "stream",
     "text": [
      "Once deleted, variables cannot be recovered. Proceed (y/[n])?  y\n"
     ]
    }
   ],
   "source": [
    "%reset\n",
    "import numpy as np\n",
    "import sys\n",
    "from scipy.integrate import trapz, simps\n",
    "from IPython.display import clear_output\n",
    "import matplotlib.pyplot as plt\n",
    "import seaborn as sns\n",
    "import matplotlib\n",
    "%run constants.ipynb"
   ]
  },
  {
   "cell_type": "code",
   "execution_count": 2,
   "id": "04cc97d8-a130-4201-8280-935ed4704bc1",
   "metadata": {},
   "outputs": [],
   "source": [
    "sys.path.append('../')\n",
    "#sys.path.append('/home/anni/Work/Software/photosperic_code/working_version/photospheric_modeling')"
   ]
  },
  {
   "cell_type": "code",
   "execution_count": 3,
   "id": "e631b797-79de-4e79-ba10-096848a63bc3",
   "metadata": {},
   "outputs": [],
   "source": [
    "from core import SimulationManager"
   ]
  },
  {
   "cell_type": "code",
   "execution_count": 4,
   "id": "50cbc3ad-c6fe-4d12-9bb4-4f064f5a0d8d",
   "metadata": {},
   "outputs": [],
   "source": [
    "def calculate_grid_parameters(xmin, xmax, ulim_lastbin):\n",
    "    D_X = np.log(1/(1-ulim_lastbin/xmax))\n",
    "    X_I = np.log(xmin)/D_X\n",
    "    BIN_X = np.log(xmax)/D_X - X_I\n",
    "    return D_X, int(X_I), int(BIN_X)"
   ]
  },
  {
   "cell_type": "code",
   "execution_count": 5,
   "id": "c465ae93-157a-4bea-b56b-b628e4065a49",
   "metadata": {},
   "outputs": [],
   "source": [
    "def calculate_grid_parameters_DX(xmin, xmax, D_X):\n",
    "    X_I = np.log(xmin)/D_X\n",
    "    BIN_X = np.log(xmax)/D_X - X_I\n",
    "    return int(X_I), int(BIN_X)"
   ]
  },
  {
   "cell_type": "code",
   "execution_count": 6,
   "id": "2694649d-4425-4669-86a1-05e07a7e7090",
   "metadata": {},
   "outputs": [],
   "source": [
    "delta_t = 5.e-11"
   ]
  },
  {
   "cell_type": "code",
   "execution_count": 7,
   "id": "53607c97-4216-4378-99b0-1edc220d530e",
   "metadata": {},
   "outputs": [
    {
     "name": "stdout",
     "output_type": "stream",
     "text": [
      "0.02 -1036 1151\n"
     ]
    }
   ],
   "source": [
    "D_X = 2.e-2\n",
    "xmin = 1.e-9\n",
    "xmax = 1.e1\n",
    "X_I, BIN_X = calculate_grid_parameters_DX(xmin, xmax, D_X)\n",
    "print(D_X, X_I, BIN_X)\n"
   ]
  },
  {
   "cell_type": "code",
   "execution_count": 8,
   "id": "7fc0f4d9-82de-4ef6-9927-3f709a6a6563",
   "metadata": {},
   "outputs": [],
   "source": [
    "grid_parameters = {'BIN_X':BIN_X, 'D_X':D_X, 'X_I':X_I, 'type_grid' : 'log'}\n",
    "solver_settings = {'include_kompaneets': True, 'kompaneets_extended_by': 'none', 'CN_solver': False }"
   ]
  },
  {
   "cell_type": "code",
   "execution_count": 9,
   "id": "f941a105-10e3-4e51-bde8-4b851d9851c0",
   "metadata": {},
   "outputs": [],
   "source": [
    "sim = SimulationManager(grid_parameters, delta_t, solver_settings)"
   ]
  },
  {
   "cell_type": "code",
   "execution_count": 10,
   "id": "99b96617-4d7c-4d3b-8c72-4f9bf240b12c",
   "metadata": {},
   "outputs": [],
   "source": [
    "initial_array = np.zeros(BIN_X)"
   ]
  },
  {
   "cell_type": "code",
   "execution_count": 11,
   "id": "b6947da6-7e1d-469b-9ba0-f5f0488ddfcf",
   "metadata": {},
   "outputs": [],
   "source": [
    "T = 10.e3/ k_B_eV"
   ]
  },
  {
   "cell_type": "code",
   "execution_count": 12,
   "id": "ef82855e-391a-45f3-8216-18008d7e4558",
   "metadata": {},
   "outputs": [
    {
     "name": "stdout",
     "output_type": "stream",
     "text": [
      "0.01956951183606842\n"
     ]
    }
   ],
   "source": [
    "sim.source_parameters['T'] = T *k_B_erg/ m_e/c0**2\n",
    "sim.source_parameters['n_e'] =6.e22\n",
    "#sim.radius = 1.e-20\n",
    "#sim.lorentz = 100\n",
    "print(sim.source_parameters['T'])"
   ]
  },
  {
   "cell_type": "code",
   "execution_count": 13,
   "id": "0732ea88-c61a-41cd-9bb3-1b2307aecdd0",
   "metadata": {},
   "outputs": [
    {
     "name": "stdout",
     "output_type": "stream",
     "text": [
      "8.356912549957172e-10 5e-11\n"
     ]
    }
   ],
   "source": [
    "## this is the typical time between scatterings, timestep should be smaller ! \n",
    "print(1/(sim.source_parameters['n_e']*sigma_t*c0), sim.delta_t) "
   ]
  },
  {
   "cell_type": "code",
   "execution_count": 14,
   "id": "683ee9eb-ec09-4b50-9f47-3ce74f0253a9",
   "metadata": {},
   "outputs": [],
   "source": [
    "energygrid = sim.energygrid"
   ]
  },
  {
   "cell_type": "raw",
   "id": "25eb4678-2243-4124-a62b-2014fb314901",
   "metadata": {},
   "source": [
    "def PlanckDistributionGamma(Gamma, Temperature):\n",
    "    res =0\n",
    "    Energy = Gamma* m_e*c0**2\n",
    "    lgr= Energy/(k_B_erg*Temperature)\n",
    "    fac = 8. *np.pi/(c0*h)**3 \n",
    "    expo= (np.exp(lgr)-1)\n",
    "    if not lgr < 1.e-10 or lgr > 1.e10: res = Gamma*Gamma*Gamma/expo*fac\n",
    "    return res"
   ]
  },
  {
   "cell_type": "code",
   "execution_count": 15,
   "id": "c8948ac9-71a8-420c-a8c2-234353be7803",
   "metadata": {},
   "outputs": [],
   "source": [
    "def find_nearest(array, value):\n",
    "    array = np.asarray(array)\n",
    "    idx = (np.abs(array - value)).argmin()\n",
    "    return idx"
   ]
  },
  {
   "cell_type": "code",
   "execution_count": 16,
   "id": "d3367518-886c-41ce-9385-9187ecbc61e3",
   "metadata": {},
   "outputs": [],
   "source": [
    "def gaussian(x, width, midpoint):\n",
    "    res = 1/(width*np.sqrt(np.pi*2))*np.exp(-0.5*((x - midpoint)/width)**2)\n",
    "    return res"
   ]
  },
  {
   "cell_type": "code",
   "execution_count": 17,
   "id": "d078ce71-b290-4b31-b1f1-130599947c33",
   "metadata": {},
   "outputs": [],
   "source": [
    "idx = find_nearest(sim.energygrid, 500/(511.e3))\n",
    "midpoint = idx\n",
    "width = 3 # gridpoints, not energy\n",
    "for i in range(BIN_X):\n",
    "    initial_array[i] = 1.e3*gaussian(i, width, midpoint)\n"
   ]
  },
  {
   "cell_type": "code",
   "execution_count": 18,
   "id": "5f6e29a7-5e0e-452a-835d-8838bd5b4a00",
   "metadata": {},
   "outputs": [],
   "source": [
    "sim.initialise_run(initial_array)\n",
    "modules = []\n",
    "sim.reset_modules(modules)"
   ]
  },
  {
   "cell_type": "code",
   "execution_count": 19,
   "id": "386d882c-cfff-4ad2-93c5-07a4fdf0c09e",
   "metadata": {},
   "outputs": [
    {
     "name": "stdout",
     "output_type": "stream",
     "text": [
      "28235260758796.934\n"
     ]
    }
   ],
   "source": [
    "arr_to_integrate = sim.energygrid**3*sim.photonarray\n",
    "E_photons = 8* np.pi * (m_e*c0**2)**4/(c0*h)**3 *simps(arr_to_integrate, sim.energygrid)\n",
    "print(E_photons)\n",
    "\n",
    "arr_to_integrate = sim.energygrid**2*sim.photonarray\n",
    "N_photons = 8* np.pi * (m_e*c0**2)**4/(c0*h)**3 *simps(arr_to_integrate, sim.energygrid)\n",
    "sim.N = N_photons"
   ]
  },
  {
   "cell_type": "code",
   "execution_count": 20,
   "id": "1ca69ff0-6b15-4ca5-83d3-e4261fc5208a",
   "metadata": {},
   "outputs": [
    {
     "name": "stdout",
     "output_type": "stream",
     "text": [
      "1441958970624292.5\n"
     ]
    }
   ],
   "source": [
    "E_ele = 3/2 * T *k_B_erg*sim.source_parameters['n_e']\n",
    "print(E_ele)"
   ]
  },
  {
   "cell_type": "code",
   "execution_count": 21,
   "id": "7da538b6-1835-46ee-8fa8-33b17c283039",
   "metadata": {},
   "outputs": [],
   "source": [
    "Etot = E_ele + E_photons"
   ]
  },
  {
   "cell_type": "markdown",
   "id": "72de7ab1-2296-43c3-934d-b2056f1576e3",
   "metadata": {},
   "source": [
    "## Check the grid and the initial configurations"
   ]
  },
  {
   "cell_type": "code",
   "execution_count": 22,
   "id": "a88f6a24-03c4-42ea-9c77-da06a28fb5f7",
   "metadata": {},
   "outputs": [
    {
     "data": {
      "image/png": "[encoded data removed]",
      "text/plain": [
       "<Figure size 640x480 with 1 Axes>"
      ]
     },
     "metadata": {},
     "output_type": "display_data"
    }
   ],
   "source": [
    "fig = plt.figure()\n",
    "\n",
    "plt.plot(sim.energygrid, color = 'g')\n",
    "plt.plot(sim.half_grid, ls = ':', color = 'r')\n",
    "\n",
    "\n",
    "ax = plt.gca()\n",
    "ax.set(yscale = 'log')\n",
    "plt.show()"
   ]
  },
  {
   "cell_type": "code",
   "execution_count": 23,
   "id": "9dd67dd3-0831-4b12-9045-e56866660294",
   "metadata": {},
   "outputs": [
    {
     "data": {
      "image/png": "[encoded data removed]",
      "text/plain": [
       "<Figure size 640x480 with 1 Axes>"
      ]
     },
     "metadata": {},
     "output_type": "display_data"
    }
   ],
   "source": [
    "fig = plt.figure()\n",
    "\n",
    "plt.plot(sim.energygrid*511, initial_array*sim.energygrid**2)\n",
    "plt.axvline(sim.source_parameters['T']*511)\n",
    "ax = plt.gca()\n",
    "ax.set(yscale = 'log', xscale='log')\n",
    "plt.show()"
   ]
  },
  {
   "cell_type": "code",
   "execution_count": 24,
   "id": "b347ed4d-8d2e-4580-a566-5507e4113b96",
   "metadata": {},
   "outputs": [],
   "source": [
    "photon_temp_evolution = []\n",
    "ele_temp_evolution = []\n",
    "ele_temp_evolution_equi = []\n",
    "ele_temp_evolution_calc = []\n",
    "phot_temp_evolution_calc = []\n",
    "dE_dt_evolution = []\n",
    "Delta_E_ele_directly = []\n",
    "delta_j_evolution = []"
   ]
  },
  {
   "cell_type": "code",
   "execution_count": 25,
   "id": "7de2a6cf-0e5b-440d-9174-5de311420822",
   "metadata": {},
   "outputs": [],
   "source": [
    "from scipy.interpolate import *"
   ]
  },
  {
   "cell_type": "code",
   "execution_count": 26,
   "id": "4d772cc5-c582-4b96-bd2e-c4bc32c0bcc9",
   "metadata": {},
   "outputs": [],
   "source": [
    "def calculate_t_ele_equilibrium(sim):\n",
    "    denom = sim.E /(8* np.pi /(c0*h)**3*(m_e*c0**2)**4)\n",
    "    array_to_integrate = sim.energygrid *sim.energygrid *sim.energygrid*sim.energygrid * sim.photonarray*(sim.photonarray +1)\n",
    "    cspline = CubicSpline(sim.energygrid, array_to_integrate)\n",
    "    nom = cspline.integrate(min(sim.energygrid), max(sim.energygrid))\n",
    "    res = nom/(4*denom)\n",
    "    return res"
   ]
  },
  {
   "cell_type": "code",
   "execution_count": 27,
   "id": "b126c5ca-efaf-40ad-8d0e-9401074eba96",
   "metadata": {},
   "outputs": [],
   "source": [
    "def calculate_t_ele(sim):\n",
    "    array_to_integrate = sim.energygrid *sim.energygrid *sim.energygrid*sim.energygrid * sim.photonarray*(sim.photonarray +1)\n",
    "    cspline = CubicSpline(sim.energygrid, array_to_integrate)\n",
    "    nom = cspline.integrate(min(sim.energygrid), max(sim.energygrid))\n",
    "    return nom\n",
    "def calculate_t_phot(sim):\n",
    "    denom = sim.E /(8* np.pi /(c0*h)**3*(m_e*c0**2)**4)\n",
    "    return 4*denom"
   ]
  },
  {
   "cell_type": "code",
   "execution_count": 28,
   "id": "4f40898b-ef65-4c00-b4c7-4f04dd6d0fc0",
   "metadata": {},
   "outputs": [],
   "source": [
    "def calculate_dE_dt(sim):\n",
    "    denom = sim.E /(8* np.pi /(c0*h)**3*(m_e*c0**2)**4)\n",
    "    array_to_integrate = sim.energygrid *sim.energygrid *sim.energygrid*sim.energygrid * sim.photonarray*(sim.photonarray +1)\n",
    "    cspline = CubicSpline(sim.energygrid, array_to_integrate)\n",
    "    nom = cspline.integrate(min(sim.energygrid), max(sim.energygrid))\n",
    "    res = sigma_t * sim.source_parameters['n_e'] *(8*np.pi*h)/(c0**2)*(m_e*c0**2)**4/h**4*(4 *sim.source_parameters['T']  * denom - nom )\n",
    "    return res"
   ]
  },
  {
   "cell_type": "code",
   "execution_count": null,
   "id": "c87d8a4e-0057-4c6b-a939-67c482ffa55c",
   "metadata": {},
   "outputs": [
    {
     "name": "stdout",
     "output_type": "stream",
     "text": [
      "71 0.009481544550506456\n"
     ]
    }
   ],
   "source": [
    "sim.compute_E_total()\n",
    "sim.compute_N_total()\n",
    "E_photons_curr = sim.E\n",
    "E_ele_curr = E_ele\n",
    "for j in range(8):\n",
    "    for k in range(500):\n",
    "        dE_dt = calculate_dE_dt(sim)\n",
    "        sim.clear_arrays_for_PDE\n",
    "        sim.evolve_one_timestep()\n",
    "        arr_to_integrate = sim.energygrid**3*sim.photonarray\n",
    "        Delta_E_ele_directly.append(E_photons_curr - sim.E)\n",
    "        E_ele_curr = E_photons_curr - sim.E\n",
    "        E_photons_curr = sim.E\n",
    "        T_e = E_ele_curr*2/3. /sim.source_parameters['n_e']\n",
    "        ele_temp_evolution.append(T_e/m_e/c0**2)\n",
    "        ele_temp_evolution_equi.append(calculate_t_ele_equilibrium(sim))\n",
    "        ele_temp_evolution_calc.append(calculate_t_ele(sim))\n",
    "        phot_temp_evolution_calc.append(calculate_t_phot(sim))\n",
    "        dE_dt_evolution.append(dE_dt)\n",
    "        #sim.T = T_e/m_e/c0**2\n",
    "        sim.source_parameters['T'] -= dE_dt * sim.delta_t * 2/3 / sim.source_parameters['n_e']/m_e/c0**2\n",
    "        print(k, sim.source_parameters['T'])\n",
    "        clear_output(wait=True)\n",
    "        photon_temp_evolution.append(sim.photonarray)\n",
    "        delta_j_evolution.append(sim.delta_j)"
   ]
  },
  {
   "cell_type": "code",
   "execution_count": null,
   "id": "e7edd50f-4565-4270-869e-aa006c579651",
   "metadata": {},
   "outputs": [],
   "source": [
    "arr_to_integrate = sim.energygrid**3*sim.photonarray\n",
    "E_photons = 8* np.pi * (m_e*c0**2)**4/(c0*h)**3 *trapz(arr_to_integrate, sim.energygrid)\n",
    "print(E_photons)\n",
    "E_ele = 3/2 * sim.source_parameters['T'] * k_B_erg*sim.source_parameters['n_e']\n",
    "print(E_ele)\n"
   ]
  },
  {
   "cell_type": "code",
   "execution_count": null,
   "id": "bf1542b3-0ef4-4237-ba74-9e03e8323b16",
   "metadata": {},
   "outputs": [],
   "source": [
    "colors = sns.color_palette('BuPu', int(len(photon_temp_evolution)/1))\n",
    "norm2 = matplotlib.colors.Normalize(vmin=0, vmax=sim.time/1)"
   ]
  },
  {
   "cell_type": "code",
   "execution_count": null,
   "id": "c0ed6576-f135-4176-80a2-2dfa4eedbe02",
   "metadata": {},
   "outputs": [],
   "source": [
    "import matplotlib\n",
    "matplotlib.rcParams.update({'font.size': 18})\n",
    "\n",
    "fig = plt.figure(figsize = [8, 6])\n",
    "\n",
    "\n",
    "ax = plt.gca()\n",
    "\n",
    "for j in range(8):\n",
    "    k = j*500-1\n",
    "    ax.plot(sim.energygrid*511, photon_temp_evolution[k]*sim.energygrid**2,\n",
    "             ls = '--', c = colors[k])\n",
    "    \n",
    "ax.plot(sim.energygrid*511, sim.photonarray*sim.energygrid**2, color = 'k')\n",
    "ax.plot(sim.energygrid*511, initial_array*sim.energygrid**2, ls = ':', \n",
    "         color = 'k')\n",
    "ax.axvline(10., color = 'k', ls = ':')\n",
    "ax.axvline(sim.source_parameters['T']*511, color = 'k', ls = '-')\n",
    "ax.set(yscale = 'log', xscale = 'log', \n",
    "       xlim = [1.e-4, 1.e2], ylim = [1.e-12, 1.e-4],\n",
    "      xlabel =r'$E_{\\gamma}/ m_e c^2$',\n",
    "      ylabel = 'n(E) [a.u.]')\n",
    "\n",
    "fig.subplots_adjust(right=0.8)\n",
    "cbar_ax = fig.add_axes([0.83, 0.15, 0.04, 0.7])\n",
    "matplotlib.colorbar.ColorbarBase(cbar_ax, cmap='BuPu', norm = norm2, label = 't [s]')\n",
    "\n",
    "plt.savefig('example_comptonisation.png', dpi = 300, bbox_inches = 'tight')\n",
    "#ax.set(yscale = 'log', xscale = 'log', xlim = [1.e-12, 1.e3], ylim = [1.e-14, 1.e3])\n",
    "plt.show()"
   ]
  },
  {
   "cell_type": "code",
   "execution_count": null,
   "id": "342d8987-0016-4739-a9d1-2637eaaa764d",
   "metadata": {},
   "outputs": [],
   "source": [
    "k_half = int(len(photon_temp_evolution)/2)\n",
    "fig, axes = plt.subplots(1,2, figsize = [14, 4])\n",
    "plt.subplots_adjust(wspace = 0.35)\n",
    "ax = axes[0]\n",
    "ax.plot(sim.energygrid*511, sim.photonarray)\n",
    "ax.plot(sim.energygrid*511, photon_temp_evolution[k_half], ls = '--')\n",
    "\n",
    "ax.plot(sim.energygrid*511, initial_array, ls = ':')\n",
    "ax.axvline(sim.source_parameters['T'] *511, color = 'k')\n",
    "ax.set(yscale = 'log', xscale = 'log', \n",
    "       xlim = [1.e-1, 1.e2], ylim = [1.e-10, 1.e3], \n",
    "        xlabel = 'x', ylabel = 'f(x)')\n",
    "\n",
    "\n",
    "ax = axes[1]\n",
    "\n",
    "ax.plot(sim.energygrid*511, sim.photonarray)\n",
    "ax.plot(sim.energygrid*511, photon_temp_evolution[k_half], ls = '--')\n",
    "\n",
    "ax.plot(sim.energygrid*511, initial_array, ls = ':')\n",
    "ax.axvline(sim.source_parameters['T'] *511, color = 'k')\n",
    "ax.set(yscale = 'log', xscale = 'log', xlabel = 'x', ylabel = 'f(x)')\n",
    "\n",
    "#ax.set(yscale = 'log', xscale = 'log', xlim = [1.e-12, 1.e3], ylim = [1.e-14, 1.e3])\n",
    "plt.show()"
   ]
  },
  {
   "cell_type": "code",
   "execution_count": null,
   "id": "15997eae-8bf1-433e-8d2c-7bdfa99cd1af",
   "metadata": {},
   "outputs": [],
   "source": [
    "fig, axes = plt.subplots(1,2, figsize=[14, 4])\n",
    "plt.subplots_adjust(wspace = 0.3)\n",
    "ax = axes[0]\n",
    "ax.plot(ele_temp_evolution, ls = '-', label = 'real')\n",
    "ax.plot(ele_temp_evolution_equi, ls = ':', label = 'equilibrium')\n",
    "ax.legend()\n",
    "\n",
    "ax.set(yscale = 'log', ylabel = r'$\\theta$ (electrons)', xlabel ='step', xlim = [50, 4000])\n",
    "ax = axes[1]\n",
    "ax.axhline(500/(511.e3), ls = '--', c = 'darkgreen')\n",
    "ax.plot(np.asarray(ele_temp_evolution_calc)*129895610, ls = '-.', label = 'ele calc')\n",
    "ax.plot(np.asarray(phot_temp_evolution_calc)*129895610, ls = '--', label = 'phot calc', c = 'darkgreen')\n",
    "ax.set(yscale = 'log', ylabel = r'$\\theta$', xlabel ='step')\n",
    "ax.legend()\n",
    "\n",
    "plt.show()"
   ]
  },
  {
   "cell_type": "code",
   "execution_count": null,
   "id": "bc58732f-4910-49ef-be8c-21904ea3830d",
   "metadata": {},
   "outputs": [],
   "source": [
    "photon_temp_evolution_delta_j_kompaneets = photon_temp_evolution\n",
    "delta_j_kompaneets = delta_j_evolution"
   ]
  },
  {
   "cell_type": "code",
   "execution_count": null,
   "id": "4a9e861c-6822-4ac5-a1f3-877952ab3f53",
   "metadata": {},
   "outputs": [],
   "source": [
    "%store delta_j_kompaneets\n",
    "%store photon_temp_evolution_delta_j_kompaneets"
   ]
  },
  {
   "cell_type": "code",
   "execution_count": null,
   "id": "2524f034-7359-484b-8ca1-7560690b708e",
   "metadata": {},
   "outputs": [],
   "source": [
    "plt.plot(sim.half_grid, sim.heating_term)\n",
    "plt.plot(sim.half_grid, sim.heating_term_kompaneets, ls = ':')\n",
    "plt.plot(sim.half_grid, sim.dispersion_term)\n",
    "plt.plot(sim.half_grid, sim.dispersion_term_kompaneets, ls = ':')\n",
    "ax = plt.gca()\n",
    "ax.set(yscale = 'log', xscale = 'log')"
   ]
  },
  {
   "cell_type": "code",
   "execution_count": null,
   "id": "8015924e-bdba-4041-8812-f245827fd7ab",
   "metadata": {},
   "outputs": [],
   "source": [
    "print(np.log(1.e13))"
   ]
  },
  {
   "cell_type": "code",
   "execution_count": null,
   "id": "efd3bd4f-82e5-4220-b54d-cba5c6029a0c",
   "metadata": {},
   "outputs": [],
   "source": []
  }
 ],
 "metadata": {
  "kernelspec": {
   "display_name": "Python 3 (ipykernel)",
   "language": "python",
   "name": "python3"
  },
  "language_info": {
   "codemirror_mode": {
    "name": "ipython",
    "version": 3
   },
   "file_extension": ".py",
   "mimetype": "text/x-python",
   "name": "python",
   "nbconvert_exporter": "python",
   "pygments_lexer": "ipython3",
   "version": "3.9.15"
  }
 },
 "nbformat": 4,
 "nbformat_minor": 5
}
